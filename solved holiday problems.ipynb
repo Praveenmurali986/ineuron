{
 "cells": [
  {
   "cell_type": "markdown",
   "id": "1cb40583",
   "metadata": {},
   "source": [
    "# 1"
   ]
  },
  {
   "cell_type": "markdown",
   "id": "3479b383",
   "metadata": {},
   "source": [
    "```\n",
    "1 . you have to write a fun which will take string and return a len of \n",
    "it without using a inbuilt fun len```"
   ]
  },
  {
   "cell_type": "code",
   "execution_count": 64,
   "id": "2d50c06d",
   "metadata": {},
   "outputs": [],
   "source": [
    "def length(a):\n",
    "    '''\n",
    "    this funtion gives the number of character/elements in a string,int,list,tuple,dictionary,set\n",
    "    '''\n",
    "    x=0\n",
    "    if type (a)==int or type(a)==str:        \n",
    "        for i in str(a) :\n",
    "            x+=1\n",
    "        return x\n",
    "    if type(a)==float:\n",
    "        return \"float has no length funtion\"\n",
    "    if type (a)==list or type (a)==tuple or type (a)== dict or type(a)==set:\n",
    "        for i in a :\n",
    "            x+=1\n",
    "        return x"
   ]
  },
  {
   "cell_type": "code",
   "execution_count": 60,
   "id": "3b4e8014",
   "metadata": {},
   "outputs": [
    {
     "name": "stdout",
     "output_type": "stream",
     "text": [
      "6 3 4 2 5 4 float has no length funtion\n"
     ]
    }
   ],
   "source": [
    "print(length(\"fjhdhj\"),\n",
    "      length(345),\n",
    "      length((3454,345,345,67)),\n",
    "      length([3454,\"fjgjfj\"]),\n",
    "      length({343,34,56,78,4}),\n",
    "      length({343:345,34:56,56:67,78:5434}),\n",
    "      length(56.66)\n",
    "     )"
   ]
  },
  {
   "cell_type": "code",
   "execution_count": null,
   "id": "d403645f",
   "metadata": {},
   "outputs": [],
   "source": []
  },
  {
   "cell_type": "markdown",
   "id": "8321b174",
   "metadata": {},
   "source": [
    "# 2"
   ]
  },
  {
   "cell_type": "markdown",
   "id": "3b8300a4",
   "metadata": {},
   "source": [
    " ```write a fun which will be able to print an index of all premitive element which you will pass ```"
   ]
  },
  {
   "cell_type": "code",
   "execution_count": 164,
   "id": "d286191b",
   "metadata": {},
   "outputs": [],
   "source": [
    "def expant(x):\n",
    "    '''this funtion will gives the index and elements of the primitive data exept set and float\n",
    "    '''\n",
    "    if type (x)==str or type (x)==int:\n",
    "        x=str(x)\n",
    "        for i in range(len(x)):\n",
    "            print (i,x[i])\n",
    "    if type (x)==list or type (x)==tuple:\n",
    "        for i in range(len(x)):\n",
    "            print(i,x[i])\n",
    "    if type(x)==dict:\n",
    "        z=list(x.values())\n",
    "        \n",
    "        y=list(x.keys())\n",
    "               \n",
    "        for i in range(len(x)) :\n",
    "               print(i,y[i],\":\",z[i])\n",
    "        \n",
    "    if type (x)==set or type (x)==float :\n",
    "        print(\"'set' object is not subscriptable\")\n"
   ]
  },
  {
   "cell_type": "code",
   "execution_count": null,
   "id": "7ea94afc",
   "metadata": {},
   "outputs": [],
   "source": []
  },
  {
   "cell_type": "markdown",
   "id": "98b5d08d",
   "metadata": {},
   "source": [
    "# 3"
   ]
  },
  {
   "cell_type": "markdown",
   "id": "f2973196",
   "metadata": {},
   "source": [
    "``` Write a fun which will take input as a dict and give me out as a list of all the values \n",
    "even in case of 2 level nesting it should work .```"
   ]
  },
  {
   "cell_type": "code",
   "execution_count": 269,
   "id": "9ca07ca0",
   "metadata": {},
   "outputs": [],
   "source": [
    "def val(x):\n",
    "    '''this funtion gives all the values in a dictionary up to two level nesting\n",
    "    '''\n",
    "    if type (x)==dict:\n",
    "        y=list(x.values())\n",
    "        for i in y:\n",
    "            if type(i)==dict:\n",
    "                z=list(i.values())\n",
    "                y.extend(z)\n",
    "        a=[]\n",
    "        for j in y:\n",
    "            if type(j)!=dict:\n",
    "                a.append(j)\n",
    "        print(a)\n",
    "    else:\n",
    "        print(\"'\",type(x),\"'\",\"is not supported\")    "
   ]
  },
  {
   "cell_type": "code",
   "execution_count": null,
   "id": "3ce83830",
   "metadata": {},
   "outputs": [],
   "source": []
  },
  {
   "cell_type": "markdown",
   "id": "3d54b42c",
   "metadata": {},
   "source": [
    "# 4"
   ]
  },
  {
   "cell_type": "markdown",
   "id": "733cf0f1",
   "metadata": {},
   "source": [
    "``` write a fun which will take another function as an input and return me an output```"
   ]
  },
  {
   "cell_type": "code",
   "execution_count": 275,
   "id": "611779a5",
   "metadata": {},
   "outputs": [],
   "source": [
    "def text():\n",
    "    return \"hello world\""
   ]
  },
  {
   "cell_type": "code",
   "execution_count": 276,
   "id": "2c7dfaa0",
   "metadata": {},
   "outputs": [],
   "source": [
    "def mul(a,b):\n",
    "    return a*b"
   ]
  },
  {
   "cell_type": "code",
   "execution_count": null,
   "id": "dbcce1ad",
   "metadata": {},
   "outputs": [],
   "source": []
  },
  {
   "cell_type": "markdown",
   "id": "14c0c731",
   "metadata": {},
   "source": [
    "# 5"
   ]
  },
  {
   "cell_type": "markdown",
   "id": "63536df7",
   "metadata": {},
   "source": [
    "```write a function whihc will take multiple list as a input and give me concatnation of all the element as \n",
    "and output```"
   ]
  },
  {
   "cell_type": "code",
   "execution_count": 320,
   "id": "8b62f817",
   "metadata": {},
   "outputs": [],
   "source": [
    "def con(a,b,c):\n",
    "    '''this funtion helps you to concat three lists the same time\n",
    "    '''\n",
    "    if type (a)==list and type(b)==list and type (c)==list :\n",
    "        x=[]\n",
    "        x.extend(q)\n",
    "        x.extend(w)\n",
    "        x.extend(e)\n",
    "    return x"
   ]
  },
  {
   "cell_type": "code",
   "execution_count": null,
   "id": "a3f7f79a",
   "metadata": {},
   "outputs": [],
   "source": []
  },
  {
   "cell_type": "markdown",
   "id": "c170d272",
   "metadata": {},
   "source": [
    "# 6"
   ]
  },
  {
   "cell_type": "markdown",
   "id": "b926c318",
   "metadata": {},
   "source": [
    "``` write a function which will be able to take a list as an input return an index of each element \n",
    "like a inbuilt index function but even if we have repetative element it should return index```"
   ]
  },
  {
   "cell_type": "code",
   "execution_count": 342,
   "id": "b82f3055",
   "metadata": {},
   "outputs": [],
   "source": [
    "def get_index(a,b):\n",
    "    '''this funtion give you the index of the desired element \n",
    "    '''\n",
    "    if type(a)==list:\n",
    "        if b in a:\n",
    "            x=0\n",
    "            for i in a :\n",
    "                x+=1\n",
    "                if i==b:\n",
    "                    print(\"index of \",b,\"is \",x-1)\n",
    "                    break\n",
    "        else:\n",
    "            print(\"the given item is not an element of the list\")\n",
    "    else:\n",
    "        print(\"only works on list, please provide list\")"
   ]
  },
  {
   "cell_type": "code",
   "execution_count": null,
   "id": "1fb35e50",
   "metadata": {},
   "outputs": [],
   "source": []
  },
  {
   "cell_type": "markdown",
   "id": "21efb3fd",
   "metadata": {},
   "source": [
    "# 7"
   ]
  },
  {
   "cell_type": "markdown",
   "id": "7dd5461d",
   "metadata": {},
   "source": [
    "```Write a function which will whould return list of all the file name from a directory .```"
   ]
  },
  {
   "cell_type": "code",
   "execution_count": null,
   "id": "93b080b0",
   "metadata": {},
   "outputs": [],
   "source": []
  },
  {
   "cell_type": "code",
   "execution_count": null,
   "id": "a9ef46e4",
   "metadata": {},
   "outputs": [],
   "source": []
  },
  {
   "cell_type": "code",
   "execution_count": null,
   "id": "4d9b4102",
   "metadata": {},
   "outputs": [],
   "source": []
  },
  {
   "cell_type": "code",
   "execution_count": null,
   "id": "33449447",
   "metadata": {},
   "outputs": [],
   "source": []
  },
  {
   "cell_type": "code",
   "execution_count": null,
   "id": "2f3486f2",
   "metadata": {},
   "outputs": [],
   "source": []
  },
  {
   "cell_type": "code",
   "execution_count": null,
   "id": "2886fb8b",
   "metadata": {},
   "outputs": [],
   "source": []
  },
  {
   "cell_type": "code",
   "execution_count": null,
   "id": "0736b97f",
   "metadata": {},
   "outputs": [],
   "source": []
  },
  {
   "cell_type": "code",
   "execution_count": null,
   "id": "e8efb9f9",
   "metadata": {},
   "outputs": [],
   "source": []
  },
  {
   "cell_type": "code",
   "execution_count": null,
   "id": "0c6ba185",
   "metadata": {},
   "outputs": [],
   "source": []
  },
  {
   "cell_type": "code",
   "execution_count": null,
   "id": "644dedbc",
   "metadata": {},
   "outputs": [],
   "source": []
  }
 ],
 "metadata": {
  "kernelspec": {
   "display_name": "Python 3",
   "language": "python",
   "name": "python3"
  },
  "language_info": {
   "codemirror_mode": {
    "name": "ipython",
    "version": 3
   },
   "file_extension": ".py",
   "mimetype": "text/x-python",
   "name": "python",
   "nbconvert_exporter": "python",
   "pygments_lexer": "ipython3",
   "version": "3.8.8"
  }
 },
 "nbformat": 4,
 "nbformat_minor": 5
}
